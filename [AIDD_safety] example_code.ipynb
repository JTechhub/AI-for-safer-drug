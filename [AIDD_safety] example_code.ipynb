{
  "cells": [
    {
      "cell_type": "code",
      "execution_count": null,
      "metadata": {
        "colab": {
          "base_uri": "https://localhost:8080/"
        },
        "id": "uE0wE_8ZA_In",
        "outputId": "2bcb4e78-3d30-42b5-bd22-9a088ebfde56"
      },
      "outputs": [
        {
          "name": "stdout",
          "output_type": "stream",
          "text": [
            "Mounted at /content/drive\n"
          ]
        }
      ],
      "source": [
        "# google colab용 code\n",
        "from google.colab import drive\n",
        "drive.mount('/content/drive')"
      ]
    },
    {
      "cell_type": "code",
      "execution_count": null,
      "metadata": {
        "id": "V4Hy-iT27lLD"
      },
      "outputs": [],
      "source": [
        "# google colab용 code\n",
        "!pip install -q condacolab\n",
        "\n",
        "import condacolab\n",
        "condacolab.install()\n",
        "\n",
        "#!conda install --yes -c rdkit python==3.7.9 rdkit\n",
        "!conda install -c conda-forge rdkit"
      ]
    },
    {
      "cell_type": "code",
      "execution_count": null,
      "metadata": {
        "id": "Y29wf5b-2mia"
      },
      "outputs": [],
      "source": [
        "import sys\n",
        " \n",
        "# appending a path\n",
        "sys.path.append('/content/drive/MyDrive/AIDD/')\n",
        "\n",
        "import os\n",
        "import xgboost\n",
        "import rdkit\n",
        "\n",
        "import pandas as pd\n",
        "import numpy as np\n",
        "\n",
        "from rdkit_descriptor_calculation import *\n",
        "from scipy import stats\n",
        "\n",
        "from sklearn.model_selection import train_test_split\n",
        "from scipy.stats import spearmanr\n",
        "from sklearn.metrics import explained_variance_score\n",
        "from sklearn.metrics import mean_squared_error as MSE\n",
        "from sklearn.metrics import r2_score"
      ]
    },
    {
      "cell_type": "code",
      "execution_count": null,
      "metadata": {
        "id": "eeLFL-7B6LPJ"
      },
      "outputs": [],
      "source": [
        "train_df = pd.read_csv(\"/content/drive/MyDrive/AIDD/hERG_train.csv\")\n",
        "test_df = pd.read_csv(\"/content/drive/MyDrive/AIDD/hERG_test.csv\")"
      ]
    },
    {
      "cell_type": "code",
      "execution_count": null,
      "metadata": {
        "id": "pccz2CAa6-fW"
      },
      "outputs": [],
      "source": [
        "target = [train_df, test_df]\n",
        "\n",
        "train_set = []\n",
        "test_set = []\n",
        "\n",
        "sets = [train_set, test_set]\n",
        "\n",
        "for i, df in enumerate(target):\n",
        "    df_id = df[['Molecule ChEMBL ID','Smiles']]\n",
        "    \n",
        "    smi = df['Smiles']\n",
        "    sd = [Chem.MolFromSmiles(m) for m in smi]\n",
        "    y = df['pIC50']\n",
        "    \n",
        "        \n",
        "    desc2d = description2D_calc(sd)\n",
        "    sets[i].append(pd.concat([df_id, y, desc2d],axis=1))\n",
        "    \n",
        "    estate = estateFP_calc(sd)\n",
        "    sets[i].append(pd.concat([df_id, y, estate],axis=1))\n",
        "    \n",
        "    autocorr = autocorr2D_calc(sd)\n",
        "    sets[i].append(pd.concat([df_id, y, autocorr],axis=1))\n",
        "    \n",
        "    maccs = maccsFP_calc(sd)\n",
        "    sets[i].append(pd.concat([df_id, y, maccs],axis=1))\n",
        "    \n",
        "    avalon = avalonFP_calc(sd)\n",
        "    sets[i].append(pd.concat([df_id, y, avalon],axis=1))\n",
        "    \n",
        "    avalon_count = avalonCountFP_calc(sd)\n",
        "    sets[i].append(pd.concat([df_id, y, avalon_count],axis=1))\n",
        "    \n",
        "    layer = layerFP_calc(sd)\n",
        "    sets[i].append(pd.concat([df_id, y, layer],axis=1))\n",
        "    \n",
        "    morgan2 = morganFP_calc(sd, 2)\n",
        "    sets[i].append(pd.concat([df_id, y, morgan2],axis=1))\n",
        "    \n",
        "    morgan3 = morganFP_calc(sd, 3)\n",
        "    sets[i].append(pd.concat([df_id, y, morgan3],axis=1))\n",
        "    \n",
        "    morgan4 = morganFP_calc(sd, 4)\n",
        "    sets[i].append(pd.concat([df_id, y, morgan4],axis=1))"
      ]
    },
    {
      "cell_type": "code",
      "execution_count": null,
      "metadata": {
        "id": "q7PFTivoInQF"
      },
      "outputs": [],
      "source": [
        "desc = [\"desc2d\",\"estateFP\",\"autocorr2D\",\"maccsFP\",\"avalonFP\",\"avalonCountFP\",\"layerFP\",\"morgan2\",\"morgan3\",\"morgan4\"]"
      ]
    },
    {
      "cell_type": "code",
      "execution_count": null,
      "metadata": {
        "colab": {
          "base_uri": "https://localhost:8080/"
        },
        "id": "U2gAxwwaJHki",
        "outputId": "0e289eb0-2c1f-4db4-99b0-a1ffc51d6d81"
      },
      "outputs": [
        {
          "data": {
            "text/plain": [
              "10"
            ]
          },
          "execution_count": 27,
          "metadata": {},
          "output_type": "execute_result"
        }
      ],
      "source": [
        "len(desc)"
      ]
    },
    {
      "cell_type": "code",
      "execution_count": null,
      "metadata": {
        "colab": {
          "background_save": true,
          "base_uri": "https://localhost:8080/"
        },
        "id": "F3msqG42FJeU",
        "outputId": "322bf8d7-2a92-4e33-acf7-18c6431bfed5"
      },
      "outputs": [
        {
          "name": "stdout",
          "output_type": "stream",
          "text": [
            "Descriptor Name : desc2d\n",
            "Training...\n",
            "R square : 0.501160\n",
            "RMSE :  0.573704\n",
            "Spearman R : 0.694701\n",
            "\n",
            "\n",
            "Descriptor Name : estateFP\n",
            "Training...\n",
            "R square : 0.494983\n",
            "RMSE :  0.577245\n",
            "Spearman R : 0.643557\n",
            "\n",
            "\n",
            "Descriptor Name : autocorr2D\n",
            "Training...\n",
            "R square : 0.442869\n",
            "RMSE :  0.606298\n",
            "Spearman R : 0.598972\n",
            "\n",
            "\n",
            "Descriptor Name : maccsFP\n",
            "Training...\n",
            "R square : 0.439775\n",
            "RMSE :  0.607979\n",
            "Spearman R : 0.641996\n",
            "\n",
            "\n",
            "Descriptor Name : avalonFP\n",
            "Training...\n",
            "R square : 0.513331\n",
            "RMSE :  0.566662\n",
            "Spearman R : 0.670619\n",
            "\n",
            "\n",
            "Descriptor Name : avalonCountFP\n",
            "Training...\n",
            "R square : 0.573462\n",
            "RMSE :  0.530501\n",
            "Spearman R : 0.715172\n",
            "\n",
            "\n",
            "Descriptor Name : layerFP\n",
            "Training...\n",
            "R square : 0.515415\n",
            "RMSE :  0.565448\n",
            "Spearman R : 0.670507\n",
            "\n",
            "\n",
            "Descriptor Name : morgan2\n",
            "Training...\n",
            "R square : 0.490743\n",
            "RMSE :  0.579663\n",
            "Spearman R : 0.648230\n",
            "\n",
            "\n",
            "Descriptor Name : morgan3\n",
            "Training...\n",
            "R square : 0.490487\n",
            "RMSE :  0.579809\n",
            "Spearman R : 0.642705\n",
            "\n",
            "\n",
            "Descriptor Name : morgan4\n",
            "Training...\n",
            "R square : 0.496806\n",
            "RMSE :  0.576202\n",
            "Spearman R : 0.640856\n",
            "\n",
            "\n"
          ]
        }
      ],
      "source": [
        "# Fitting the model\n",
        "for i in range(len(desc)):\n",
        "  X_train = train_set[i].drop(['Molecule ChEMBL ID','Smiles', 'pIC50'], axis=1)\n",
        "  y_train = train_set[i]['pIC50']\n",
        "\n",
        "  X_test = test_set[i].drop(['Molecule ChEMBL ID','Smiles', 'pIC50'], axis=1)\n",
        "  y_test = test_set[i]['pIC50']\n",
        "\n",
        "  print(\"* Descriptor Name : %s\" %(desc[i]))\n",
        "  print(\"  Training...\")\n",
        "\n",
        "  xgb_model = xgboost.XGBRegressor(objective = \"reg:squarederror\", n_estimators=100, learning_rate=0.08, gamma=0, subsample=0.75,\n",
        "                           colsample_bytree=1, max_depth=7, seed=123)\n",
        "\n",
        "  xgb_model.fit(X_train, y_train)\n",
        "\n",
        "  # Predict the model\n",
        "  pred = xgb_model.predict(X_test)\n",
        "\n",
        "  r_sq = r2_score(y_test, pred)\n",
        "  rmse = np.sqrt(MSE(y_test, pred))\n",
        "  sp_r = stats.spearmanr(y_test, pred).statistic\n",
        "\n",
        "  print(\" > Evaluation Metrics\") \n",
        "  print(\"   R square : %f\" %(r_sq))\n",
        "  print(\"   RMSE : % f\" %(rmse))\n",
        "  print(\"   Spearman R : %f\" %(sp_r))\n",
        "  print(\"\\n\")"
      ]
    }
  ],
  "metadata": {
    "colab": {
      "provenance": []
    },
    "kernelspec": {
      "display_name": "Python 3",
      "name": "python3"
    },
    "language_info": {
      "name": "python"
    }
  },
  "nbformat": 4,
  "nbformat_minor": 0
}
