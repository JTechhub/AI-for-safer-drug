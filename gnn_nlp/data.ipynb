{
 "cells": [
  {
   "cell_type": "code",
   "execution_count": 7,
   "metadata": {},
   "outputs": [],
   "source": [
    "import torch_geometric\n",
    "from torch_geometric import data\n",
    "from torch_geometric.utils import from_smiles\n",
    "import pandas as pd\n",
    "import torch\n",
    "import numpy as np\n",
    "\n",
    "from rdkit import Chem\n",
    "from rdkit.Chem import AllChem\n"
   ]
  },
  {
   "cell_type": "code",
   "execution_count": 13,
   "metadata": {},
   "outputs": [],
   "source": [
    "train_df = pd.read_csv('data/hERg_train.csv')\n",
    "test_df = pd.read_csv('data/hERg_test.csv')"
   ]
  },
  {
   "cell_type": "code",
   "execution_count": 14,
   "metadata": {},
   "outputs": [],
   "source": [
    "complex_smiles_train = []\n",
    "complex_smiles_test = []\n",
    "train = []\n",
    "for index, row in train_df.iterrows():\n",
    "    smiles = row['Smiles']\n",
    "\t\t# torch geometric의 from_smiles함수를 통해서 graph 형태로 변환\n",
    "    data = from_smiles(smiles, with_hydrogen  = False)\n",
    "    data.y = torch.tensor(row['pIC50']).unsqueeze(-1)\n",
    "\n",
    "    # 추가적으로 각 원자의 좌표값을 얻기 위한 과정\n",
    "    # 좌표 값을 사용하지 않을 거라면 위의 코드만으로 가능합니다\n",
    "    mol = Chem.MolFromSmiles(smiles)\n",
    "    mol = Chem.AddHs(mol) # 수소 원자가 없으면 계산이 되지 않는 구조가 많아서 추가\n",
    "\n",
    "    status = AllChem.EmbedMolecule(mol)\n",
    "    if status == -1:\n",
    "        complex_smiles_train.append(smiles)\n",
    "        continue\n",
    "    status = AllChem.UFFOptimizeMolecule(mol)\n",
    "\n",
    "    mol = Chem.RemoveHs(mol) # 수소원자 제거\n",
    "    conformer = mol.GetConformer()\n",
    "    coordinates = conformer.GetPositions()\n",
    "    coordinates = np.array(coordinates)\n",
    "    data.pos = torch.tensor(coordinates).float() # pos라는 좌표값 정보를 graph data에 추가\n",
    "    \n",
    "    train.append(data)\n",
    "\n",
    "test = []\n",
    "for index, row in test_df.iterrows():\n",
    "    smiles = row['Smiles']\n",
    "    data = from_smiles(smiles, with_hydrogen  = False)\n",
    "    data.y = torch.tensor(row['pIC50']).unsqueeze(-1)\n",
    "\n",
    "    mol = Chem.MolFromSmiles(smiles)\n",
    "    mol = Chem.AddHs(mol)\n",
    "\n",
    "    status = AllChem.EmbedMolecule(mol)\n",
    "    if status == -1:\n",
    "        complex_smiles_test.append(smiles)\n",
    "        continue\n",
    "    status = AllChem.UFFOptimizeMolecule(mol)\n",
    "\n",
    "    mol = Chem.RemoveHs(mol)\n",
    "    conformer = mol.GetConformer()\n",
    "    coordinates = conformer.GetPositions()\n",
    "    coordinates = np.array(coordinates)\n",
    "    data.pos = torch.tensor(coordinates).float()\n",
    "    \n",
    "    test.append(data)"
   ]
  },
  {
   "cell_type": "code",
   "execution_count": 15,
   "metadata": {},
   "outputs": [
    {
     "data": {
      "text/plain": [
       "Data(x=[50, 9], edge_index=[2, 108], edge_attr=[108, 3], smiles='COc1ncc(-c2ccc(C(=O)O)cc2C)cc1-c1ccc(C(F)(F)F)cc1CN1C(=O)O[C@H](c2cc(C(F)(F)F)cc(C(F)(F)F)c2)[C@@H]1C', y=[1], pos=[50, 3])"
      ]
     },
     "execution_count": 15,
     "metadata": {},
     "output_type": "execute_result"
    }
   ],
   "source": [
    "data"
   ]
  },
  {
   "cell_type": "code",
   "execution_count": 27,
   "metadata": {},
   "outputs": [],
   "source": [
    "torch.save(train,'data/train_graph')\n",
    "torch.save(test,'data/test_graph_add')"
   ]
  },
  {
   "cell_type": "code",
   "execution_count": 16,
   "metadata": {},
   "outputs": [
    {
     "data": {
      "text/plain": [
       "['O=C(O[C@@H]1C[C@@H]2C[C@H]3C[C@H](C1)N2CC3=O)c1c[nH]c2ccccc12',\n",
       " 'CO[C@@]12CC[C@@]3(C[C@@H]1[C@](C)(O)C(C)(C)C)[C@H]1Cc4ccc(O)c5c4[C@@]3(CCN1CC1CC1)[C@H]2O5']"
      ]
     },
     "execution_count": 16,
     "metadata": {},
     "output_type": "execute_result"
    }
   ],
   "source": [
    "complex_smiles_train"
   ]
  },
  {
   "cell_type": "code",
   "execution_count": 17,
   "metadata": {},
   "outputs": [
    {
     "data": {
      "text/plain": [
       "[]"
      ]
     },
     "execution_count": 17,
     "metadata": {},
     "output_type": "execute_result"
    }
   ],
   "source": [
    "\n",
    "complex_smiles_test"
   ]
  }
 ],
 "metadata": {
  "kernelspec": {
   "display_name": "ai_for_safe_drug.venv",
   "language": "python",
   "name": "python3"
  },
  "language_info": {
   "codemirror_mode": {
    "name": "ipython",
    "version": 3
   },
   "file_extension": ".py",
   "mimetype": "text/x-python",
   "name": "python",
   "nbconvert_exporter": "python",
   "pygments_lexer": "ipython3",
   "version": "3.10.11"
  },
  "orig_nbformat": 4
 },
 "nbformat": 4,
 "nbformat_minor": 2
}
