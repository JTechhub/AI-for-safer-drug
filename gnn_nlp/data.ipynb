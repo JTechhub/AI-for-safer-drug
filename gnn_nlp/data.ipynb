{
 "cells": [
  {
   "cell_type": "code",
   "execution_count": null,
   "metadata": {},
   "outputs": [
    {
     "ename": "",
     "evalue": "",
     "output_type": "error",
     "traceback": [
      "\u001b[1;31mJupyter cannot be started. Error attempting to locate Jupyter: Running cells with '/home01/x2594a03/.conda/envs/drug' requires the jupyter and notebook package.\n",
      "\u001b[1;31mRun the following command to install 'jupyter and notebook' into the Python environment. \n",
      "\u001b[1;31mCommand: 'python -m pip install jupyter notebook -U\n",
      "\u001b[1;31mor\n",
      "\u001b[1;31mconda install jupyter notebook -U'\n",
      "\u001b[1;31mClick <a href='https://aka.ms/installJupyterForVSCode'>here</a> for more info."
     ]
    }
   ],
   "source": [
    "import torch_geometric\n",
    "from torch_geometric import data\n",
    "from torch_geometric.utils import from_smiles\n",
    "import pandas as pd\n",
    "import torch\n",
    "import numpy as np\n",
    "\n",
    "\n",
    "from rdkit import Chem\n",
    "from rdkit.Chem import AllChem\n"
   ]
  },
  {
   "cell_type": "code",
   "execution_count": 18,
   "metadata": {},
   "outputs": [],
   "source": [
    "train_df = pd.read_csv('data/hERg_train.csv')\n",
    "test_df = pd.read_csv('data/hERg_test.csv')"
   ]
  },
  {
   "cell_type": "code",
   "execution_count": 20,
   "metadata": {},
   "outputs": [],
   "source": [
    "complex_smiles_train = []\n",
    "complex_smiles_test = []\n",
    "train = []\n",
    "for index, row in train_df.iterrows():\n",
    "    smiles = row['Smiles']\n",
    "    data = from_smiles(smiles, with_hydrogen  = False)\n",
    "    data.y = torch.tensor(row['pIC50']).unsqueeze(-1)\n",
    "\n",
    "    mol = Chem.MolFromSmiles(smiles)\n",
    "    mol = Chem.AddHs(mol)\n",
    "\n",
    "    status = AllChem.EmbedMolecule(mol)\n",
    "    if status == -1:\n",
    "        complex_smiles_train.append(smiles)\n",
    "        continue\n",
    "    status = AllChem.UFFOptimizeMolecule(mol)\n",
    "\n",
    "    mol = Chem.RemoveHs(mol)\n",
    "    conformer = mol.GetConformer()\n",
    "    coordinates = conformer.GetPositions()\n",
    "    coordinates = np.array(coordinates)\n",
    "    data.pos = torch.tensor(coordinates).float()\n",
    "    \n",
    "    train.append(data)\n",
    "\n",
    "test = []\n",
    "for index, row in test_df.iterrows():\n",
    "    smiles = row['Smiles']\n",
    "    data = from_smiles(smiles, with_hydrogen  = False)\n",
    "    data.y = torch.tensor(row['pIC50']).unsqueeze(-1)\n",
    "\n",
    "    mol = Chem.MolFromSmiles(smiles)\n",
    "    mol = Chem.AddHs(mol)\n",
    "\n",
    "    status = AllChem.EmbedMolecule(mol)\n",
    "    if status == -1:\n",
    "        complex_smiles_test.append(smiles)\n",
    "        continue\n",
    "    status = AllChem.UFFOptimizeMolecule(mol)\n",
    "\n",
    "    mol = Chem.RemoveHs(mol)\n",
    "    conformer = mol.GetConformer()\n",
    "    coordinates = conformer.GetPositions()\n",
    "    coordinates = np.array(coordinates)\n",
    "    data.pos = torch.tensor(coordinates).float()\n",
    "    \n",
    "    test.append(data)"
   ]
  },
  {
   "cell_type": "code",
   "execution_count": 27,
   "metadata": {},
   "outputs": [],
   "source": [
    "torch.save(train,'data/train_graph')\n",
    "torch.save(test,'data/test_graph')"
   ]
  },
  {
   "cell_type": "code",
   "execution_count": null,
   "metadata": {},
   "outputs": [],
   "source": [
    "complex_smiles_train"
   ]
  },
  {
   "cell_type": "code",
   "execution_count": 15,
   "metadata": {},
   "outputs": [
    {
     "data": {
      "text/plain": [
       "[]"
      ]
     },
     "execution_count": 15,
     "metadata": {},
     "output_type": "execute_result"
    }
   ],
   "source": [
    "\n",
    "complex_smiles_test"
   ]
  },
  {
   "cell_type": "code",
   "execution_count": 28,
   "metadata": {},
   "outputs": [
    {
     "data": {
      "text/plain": [
       "Data(x=[50, 9], edge_index=[2, 108], edge_attr=[108, 3], smiles='COc1ncc(-c2ccc(C(=O)O)cc2C)cc1-c1ccc(C(F)(F)F)cc1CN1C(=O)O[C@H](c2cc(C(F)(F)F)cc(C(F)(F)F)c2)[C@@H]1C', y=[1], pos=[50, 3])"
      ]
     },
     "execution_count": 28,
     "metadata": {},
     "output_type": "execute_result"
    }
   ],
   "source": [
    "data"
   ]
  },
  {
   "cell_type": "code",
   "execution_count": null,
   "metadata": {},
   "outputs": [],
   "source": []
  }
 ],
 "metadata": {
  "kernelspec": {
   "display_name": "ai_for_safe_drug.venv",
   "language": "python",
   "name": "python3"
  },
  "language_info": {
   "codemirror_mode": {
    "name": "ipython",
    "version": 3
   },
   "file_extension": ".py",
   "mimetype": "text/x-python",
   "name": "python",
   "nbconvert_exporter": "python",
   "pygments_lexer": "ipython3",
   "version": "3.10.4"
  },
  "orig_nbformat": 4
 },
 "nbformat": 4,
 "nbformat_minor": 2
}
