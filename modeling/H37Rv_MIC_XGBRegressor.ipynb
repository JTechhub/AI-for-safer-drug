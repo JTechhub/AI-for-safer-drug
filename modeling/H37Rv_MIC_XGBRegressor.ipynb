{
  "nbformat": 4,
  "nbformat_minor": 0,
  "metadata": {
    "colab": {
      "provenance": [],
      "gpuType": "V100"
    },
    "kernelspec": {
      "name": "python3",
      "display_name": "Python 3"
    },
    "language_info": {
      "name": "python"
    },
    "accelerator": "GPU"
  },
  "cells": [
    {
      "cell_type": "code",
      "execution_count": 1,
      "metadata": {
        "id": "Q_ce6gF6pbLo"
      },
      "outputs": [],
      "source": [
        "import pandas as pd\n",
        "import numpy as np"
      ]
    },
    {
      "cell_type": "code",
      "source": [
        "from google.colab import drive\n",
        "drive.mount(\"/content/drive\")"
      ],
      "metadata": {
        "colab": {
          "base_uri": "https://localhost:8080/"
        },
        "id": "3NJdq6W5qmOt",
        "outputId": "040f49af-7a23-4cd1-8e6e-68804baa50b0"
      },
      "execution_count": 2,
      "outputs": [
        {
          "output_type": "stream",
          "name": "stdout",
          "text": [
            "Mounted at /content/drive\n"
          ]
        }
      ]
    },
    {
      "cell_type": "code",
      "source": [
        "train_df = pd.read_csv(\"/content/drive/MyDrive/Colab Notebooks/Data/H37Rv_MIC_train.csv\")\n",
        "test_df = pd.read_csv(\"/content/drive/MyDrive/Colab Notebooks/Data/H37Rv_MIC_test.csv\")\n",
        "train_df.head(1)"
      ],
      "metadata": {
        "colab": {
          "base_uri": "https://localhost:8080/",
          "height": 115
        },
        "id": "ZF_yn8Ijq7Gm",
        "outputId": "211844dd-d2ba-4a7b-b28e-1202f7e41300"
      },
      "execution_count": 3,
      "outputs": [
        {
          "output_type": "execute_result",
          "data": {
            "text/plain": [
              "   data_soucrce    value unit      type measurement relation  \\\n",
              "0  ChEMBL_H37Rv -3.79314   nM  In Vitro        pMIC        =   \n",
              "\n",
              "                                              smi  \\\n",
              "0  CSc1ccc(-c2nc3sc(S(N)(=O)=O)nn3c2-c2ccccc2)cc1   \n",
              "\n",
              "                                         description      category origin  \\\n",
              "0  Antimycobacterial activity against Mycobacteri...  Tuberculosis  H37Rv   \n",
              "\n",
              "                                        rdkit_smi       mw    logp  \n",
              "0  CSc1ccc(-c2nc3sc(S(N)(=O)=O)nn3c2-c2ccccc2)cc1  402.526  3.4941  "
            ],
            "text/html": [
              "\n",
              "  <div id=\"df-627178db-49fb-4f16-8295-7cc14b94588f\" class=\"colab-df-container\">\n",
              "    <div>\n",
              "<style scoped>\n",
              "    .dataframe tbody tr th:only-of-type {\n",
              "        vertical-align: middle;\n",
              "    }\n",
              "\n",
              "    .dataframe tbody tr th {\n",
              "        vertical-align: top;\n",
              "    }\n",
              "\n",
              "    .dataframe thead th {\n",
              "        text-align: right;\n",
              "    }\n",
              "</style>\n",
              "<table border=\"1\" class=\"dataframe\">\n",
              "  <thead>\n",
              "    <tr style=\"text-align: right;\">\n",
              "      <th></th>\n",
              "      <th>data_soucrce</th>\n",
              "      <th>value</th>\n",
              "      <th>unit</th>\n",
              "      <th>type</th>\n",
              "      <th>measurement</th>\n",
              "      <th>relation</th>\n",
              "      <th>smi</th>\n",
              "      <th>description</th>\n",
              "      <th>category</th>\n",
              "      <th>origin</th>\n",
              "      <th>rdkit_smi</th>\n",
              "      <th>mw</th>\n",
              "      <th>logp</th>\n",
              "    </tr>\n",
              "  </thead>\n",
              "  <tbody>\n",
              "    <tr>\n",
              "      <th>0</th>\n",
              "      <td>ChEMBL_H37Rv</td>\n",
              "      <td>-3.79314</td>\n",
              "      <td>nM</td>\n",
              "      <td>In Vitro</td>\n",
              "      <td>pMIC</td>\n",
              "      <td>=</td>\n",
              "      <td>CSc1ccc(-c2nc3sc(S(N)(=O)=O)nn3c2-c2ccccc2)cc1</td>\n",
              "      <td>Antimycobacterial activity against Mycobacteri...</td>\n",
              "      <td>Tuberculosis</td>\n",
              "      <td>H37Rv</td>\n",
              "      <td>CSc1ccc(-c2nc3sc(S(N)(=O)=O)nn3c2-c2ccccc2)cc1</td>\n",
              "      <td>402.526</td>\n",
              "      <td>3.4941</td>\n",
              "    </tr>\n",
              "  </tbody>\n",
              "</table>\n",
              "</div>\n",
              "    <div class=\"colab-df-buttons\">\n",
              "\n",
              "  <div class=\"colab-df-container\">\n",
              "    <button class=\"colab-df-convert\" onclick=\"convertToInteractive('df-627178db-49fb-4f16-8295-7cc14b94588f')\"\n",
              "            title=\"Convert this dataframe to an interactive table.\"\n",
              "            style=\"display:none;\">\n",
              "\n",
              "  <svg xmlns=\"http://www.w3.org/2000/svg\" height=\"24px\" viewBox=\"0 -960 960 960\">\n",
              "    <path d=\"M120-120v-720h720v720H120Zm60-500h600v-160H180v160Zm220 220h160v-160H400v160Zm0 220h160v-160H400v160ZM180-400h160v-160H180v160Zm440 0h160v-160H620v160ZM180-180h160v-160H180v160Zm440 0h160v-160H620v160Z\"/>\n",
              "  </svg>\n",
              "    </button>\n",
              "\n",
              "  <style>\n",
              "    .colab-df-container {\n",
              "      display:flex;\n",
              "      gap: 12px;\n",
              "    }\n",
              "\n",
              "    .colab-df-convert {\n",
              "      background-color: #E8F0FE;\n",
              "      border: none;\n",
              "      border-radius: 50%;\n",
              "      cursor: pointer;\n",
              "      display: none;\n",
              "      fill: #1967D2;\n",
              "      height: 32px;\n",
              "      padding: 0 0 0 0;\n",
              "      width: 32px;\n",
              "    }\n",
              "\n",
              "    .colab-df-convert:hover {\n",
              "      background-color: #E2EBFA;\n",
              "      box-shadow: 0px 1px 2px rgba(60, 64, 67, 0.3), 0px 1px 3px 1px rgba(60, 64, 67, 0.15);\n",
              "      fill: #174EA6;\n",
              "    }\n",
              "\n",
              "    .colab-df-buttons div {\n",
              "      margin-bottom: 4px;\n",
              "    }\n",
              "\n",
              "    [theme=dark] .colab-df-convert {\n",
              "      background-color: #3B4455;\n",
              "      fill: #D2E3FC;\n",
              "    }\n",
              "\n",
              "    [theme=dark] .colab-df-convert:hover {\n",
              "      background-color: #434B5C;\n",
              "      box-shadow: 0px 1px 3px 1px rgba(0, 0, 0, 0.15);\n",
              "      filter: drop-shadow(0px 1px 2px rgba(0, 0, 0, 0.3));\n",
              "      fill: #FFFFFF;\n",
              "    }\n",
              "  </style>\n",
              "\n",
              "    <script>\n",
              "      const buttonEl =\n",
              "        document.querySelector('#df-627178db-49fb-4f16-8295-7cc14b94588f button.colab-df-convert');\n",
              "      buttonEl.style.display =\n",
              "        google.colab.kernel.accessAllowed ? 'block' : 'none';\n",
              "\n",
              "      async function convertToInteractive(key) {\n",
              "        const element = document.querySelector('#df-627178db-49fb-4f16-8295-7cc14b94588f');\n",
              "        const dataTable =\n",
              "          await google.colab.kernel.invokeFunction('convertToInteractive',\n",
              "                                                    [key], {});\n",
              "        if (!dataTable) return;\n",
              "\n",
              "        const docLinkHtml = 'Like what you see? Visit the ' +\n",
              "          '<a target=\"_blank\" href=https://colab.research.google.com/notebooks/data_table.ipynb>data table notebook</a>'\n",
              "          + ' to learn more about interactive tables.';\n",
              "        element.innerHTML = '';\n",
              "        dataTable['output_type'] = 'display_data';\n",
              "        await google.colab.output.renderOutput(dataTable, element);\n",
              "        const docLink = document.createElement('div');\n",
              "        docLink.innerHTML = docLinkHtml;\n",
              "        element.appendChild(docLink);\n",
              "      }\n",
              "    </script>\n",
              "  </div>\n",
              "\n",
              "\n",
              "    </div>\n",
              "  </div>\n"
            ],
            "application/vnd.google.colaboratory.intrinsic+json": {
              "type": "dataframe",
              "variable_name": "train_df",
              "summary": "{\n  \"name\": \"train_df\",\n  \"rows\": 5899,\n  \"fields\": [\n    {\n      \"column\": \"data_soucrce\",\n      \"properties\": {\n        \"dtype\": \"category\",\n        \"num_unique_values\": 3,\n        \"samples\": [\n          \"ChEMBL_H37Rv\",\n          \"NPASS\",\n          \"set17\"\n        ],\n        \"semantic_type\": \"\",\n        \"description\": \"\"\n      }\n    },\n    {\n      \"column\": \"value\",\n      \"properties\": {\n        \"dtype\": \"number\",\n        \"std\": 0.9253883911980475,\n        \"min\": -6.83341,\n        \"max\": -0.220108,\n        \"num_unique_values\": 4581,\n        \"samples\": [\n          -3.53172,\n          -4.00728,\n          -3.63638\n        ],\n        \"semantic_type\": \"\",\n        \"description\": \"\"\n      }\n    },\n    {\n      \"column\": \"unit\",\n      \"properties\": {\n        \"dtype\": \"category\",\n        \"num_unique_values\": 1,\n        \"samples\": [\n          \"nM\"\n        ],\n        \"semantic_type\": \"\",\n        \"description\": \"\"\n      }\n    },\n    {\n      \"column\": \"type\",\n      \"properties\": {\n        \"dtype\": \"category\",\n        \"num_unique_values\": 1,\n        \"samples\": [\n          \"In Vitro\"\n        ],\n        \"semantic_type\": \"\",\n        \"description\": \"\"\n      }\n    },\n    {\n      \"column\": \"measurement\",\n      \"properties\": {\n        \"dtype\": \"category\",\n        \"num_unique_values\": 1,\n        \"samples\": [\n          \"pMIC\"\n        ],\n        \"semantic_type\": \"\",\n        \"description\": \"\"\n      }\n    },\n    {\n      \"column\": \"relation\",\n      \"properties\": {\n        \"dtype\": \"category\",\n        \"num_unique_values\": 1,\n        \"samples\": [\n          \"=\"\n        ],\n        \"semantic_type\": \"\",\n        \"description\": \"\"\n      }\n    },\n    {\n      \"column\": \"smi\",\n      \"properties\": {\n        \"dtype\": \"string\",\n        \"num_unique_values\": 5899,\n        \"samples\": [\n          \"Cc1ncc(CN[C@@H]2CCN(CCn3c(=O)ccc4ccc(C#N)cc43)C[C@@H]2F)cc1C#N\"\n        ],\n        \"semantic_type\": \"\",\n        \"description\": \"\"\n      }\n    },\n    {\n      \"column\": \"description\",\n      \"properties\": {\n        \"dtype\": \"category\",\n        \"num_unique_values\": 449,\n        \"samples\": [\n          \"Antimycobacterial activity against Mycobacterium tuberculosis H37Rv after 4 days by MABA assay\"\n        ],\n        \"semantic_type\": \"\",\n        \"description\": \"\"\n      }\n    },\n    {\n      \"column\": \"category\",\n      \"properties\": {\n        \"dtype\": \"category\",\n        \"num_unique_values\": 1,\n        \"samples\": [\n          \"Tuberculosis\"\n        ],\n        \"semantic_type\": \"\",\n        \"description\": \"\"\n      }\n    },\n    {\n      \"column\": \"origin\",\n      \"properties\": {\n        \"dtype\": \"category\",\n        \"num_unique_values\": 1,\n        \"samples\": [\n          \"H37Rv\"\n        ],\n        \"semantic_type\": \"\",\n        \"description\": \"\"\n      }\n    },\n    {\n      \"column\": \"rdkit_smi\",\n      \"properties\": {\n        \"dtype\": \"string\",\n        \"num_unique_values\": 5899,\n        \"samples\": [\n          \"Cc1ncc(CN[C@@H]2CCN(CCn3c(=O)ccc4ccc(C#N)cc43)C[C@@H]2F)cc1C#N\"\n        ],\n        \"semantic_type\": \"\",\n        \"description\": \"\"\n      }\n    },\n    {\n      \"column\": \"mw\",\n      \"properties\": {\n        \"dtype\": \"number\",\n        \"std\": 113.71751400428191,\n        \"min\": 102.093,\n        \"max\": 1271.4369999999997,\n        \"num_unique_values\": 5065,\n        \"samples\": [\n          525.6330000000002\n        ],\n        \"semantic_type\": \"\",\n        \"description\": \"\"\n      }\n    },\n    {\n      \"column\": \"logp\",\n      \"properties\": {\n        \"dtype\": \"number\",\n        \"std\": 1.9330877174137615,\n        \"min\": -7.2914000000000065,\n        \"max\": 14.048439999999973,\n        \"num_unique_values\": 5294,\n        \"samples\": [\n          7.0415200000000056\n        ],\n        \"semantic_type\": \"\",\n        \"description\": \"\"\n      }\n    }\n  ]\n}"
            }
          },
          "metadata": {},
          "execution_count": 3
        }
      ]
    },
    {
      "cell_type": "code",
      "source": [
        "train_df.info()"
      ],
      "metadata": {
        "colab": {
          "base_uri": "https://localhost:8080/"
        },
        "id": "nG4BcmVpxnxI",
        "outputId": "77704c6f-dea7-4b0f-e7c0-a23aaf9b0fb5"
      },
      "execution_count": 4,
      "outputs": [
        {
          "output_type": "stream",
          "name": "stdout",
          "text": [
            "<class 'pandas.core.frame.DataFrame'>\n",
            "RangeIndex: 5899 entries, 0 to 5898\n",
            "Data columns (total 13 columns):\n",
            " #   Column        Non-Null Count  Dtype  \n",
            "---  ------        --------------  -----  \n",
            " 0   data_soucrce  5899 non-null   object \n",
            " 1   value         5899 non-null   float64\n",
            " 2   unit          5899 non-null   object \n",
            " 3   type          5897 non-null   object \n",
            " 4   measurement   5899 non-null   object \n",
            " 5   relation      5899 non-null   object \n",
            " 6   smi           5899 non-null   object \n",
            " 7   description   5899 non-null   object \n",
            " 8   category      5899 non-null   object \n",
            " 9   origin        5899 non-null   object \n",
            " 10  rdkit_smi     5899 non-null   object \n",
            " 11  mw            5899 non-null   float64\n",
            " 12  logp          5899 non-null   float64\n",
            "dtypes: float64(3), object(10)\n",
            "memory usage: 599.2+ KB\n"
          ]
        }
      ]
    },
    {
      "cell_type": "code",
      "source": [
        "test_df.info()"
      ],
      "metadata": {
        "colab": {
          "base_uri": "https://localhost:8080/"
        },
        "id": "HH--TfLVx6Ll",
        "outputId": "77de9e12-1493-4982-bcd2-f80a890351d3"
      },
      "execution_count": 5,
      "outputs": [
        {
          "output_type": "stream",
          "name": "stdout",
          "text": [
            "<class 'pandas.core.frame.DataFrame'>\n",
            "RangeIndex: 1475 entries, 0 to 1474\n",
            "Data columns (total 13 columns):\n",
            " #   Column        Non-Null Count  Dtype  \n",
            "---  ------        --------------  -----  \n",
            " 0   data_soucrce  1475 non-null   object \n",
            " 1   value         1475 non-null   float64\n",
            " 2   unit          1475 non-null   object \n",
            " 3   type          1475 non-null   object \n",
            " 4   measurement   1475 non-null   object \n",
            " 5   relation      1475 non-null   object \n",
            " 6   smi           1475 non-null   object \n",
            " 7   description   1475 non-null   object \n",
            " 8   category      1475 non-null   object \n",
            " 9   origin        1475 non-null   object \n",
            " 10  rdkit_smi     1475 non-null   object \n",
            " 11  mw            1475 non-null   float64\n",
            " 12  logp          1475 non-null   float64\n",
            "dtypes: float64(3), object(10)\n",
            "memory usage: 149.9+ KB\n"
          ]
        }
      ]
    },
    {
      "cell_type": "code",
      "source": [
        "train_df = train_df.rename(columns={'data_soucrce': 'data_source'})\n",
        "train_df.columns"
      ],
      "metadata": {
        "colab": {
          "base_uri": "https://localhost:8080/"
        },
        "id": "N4wbMXr7zRBU",
        "outputId": "80918378-1368-421f-e63b-e02712ceaf00"
      },
      "execution_count": 6,
      "outputs": [
        {
          "output_type": "execute_result",
          "data": {
            "text/plain": [
              "Index(['data_source', 'value', 'unit', 'type', 'measurement', 'relation',\n",
              "       'smi', 'description', 'category', 'origin', 'rdkit_smi', 'mw', 'logp'],\n",
              "      dtype='object')"
            ]
          },
          "metadata": {},
          "execution_count": 6
        }
      ]
    },
    {
      "cell_type": "code",
      "source": [
        "test_df = test_df.rename(columns={'data_soucrce': 'data_source'})\n",
        "test_df.columns"
      ],
      "metadata": {
        "colab": {
          "base_uri": "https://localhost:8080/"
        },
        "id": "r1MmLWdOzQvn",
        "outputId": "95c1bac1-28b8-406f-e326-db6bc9e665fe"
      },
      "execution_count": 7,
      "outputs": [
        {
          "output_type": "execute_result",
          "data": {
            "text/plain": [
              "Index(['data_source', 'value', 'unit', 'type', 'measurement', 'relation',\n",
              "       'smi', 'description', 'category', 'origin', 'rdkit_smi', 'mw', 'logp'],\n",
              "      dtype='object')"
            ]
          },
          "metadata": {},
          "execution_count": 7
        }
      ]
    },
    {
      "cell_type": "code",
      "source": [
        "train_df.nunique()"
      ],
      "metadata": {
        "colab": {
          "base_uri": "https://localhost:8080/"
        },
        "id": "87B68OtGx-gP",
        "outputId": "36599c1f-3b17-406a-e559-82cfe5b55711"
      },
      "execution_count": 8,
      "outputs": [
        {
          "output_type": "execute_result",
          "data": {
            "text/plain": [
              "data_source       3\n",
              "value          4581\n",
              "unit              1\n",
              "type              1\n",
              "measurement       1\n",
              "relation          1\n",
              "smi            5899\n",
              "description     449\n",
              "category          1\n",
              "origin            1\n",
              "rdkit_smi      5899\n",
              "mw             5065\n",
              "logp           5294\n",
              "dtype: int64"
            ]
          },
          "metadata": {},
          "execution_count": 8
        }
      ]
    },
    {
      "cell_type": "code",
      "source": [
        "test_df.nunique()"
      ],
      "metadata": {
        "colab": {
          "base_uri": "https://localhost:8080/"
        },
        "id": "OAIBQ6MUyDwU",
        "outputId": "1c7a65d3-3040-44b6-dc70-40693d352917"
      },
      "execution_count": 9,
      "outputs": [
        {
          "output_type": "execute_result",
          "data": {
            "text/plain": [
              "data_source       2\n",
              "value          1302\n",
              "unit              1\n",
              "type              1\n",
              "measurement       1\n",
              "relation          1\n",
              "smi            1475\n",
              "description     346\n",
              "category          1\n",
              "origin            1\n",
              "rdkit_smi      1475\n",
              "mw             1421\n",
              "logp           1442\n",
              "dtype: int64"
            ]
          },
          "metadata": {},
          "execution_count": 9
        }
      ]
    },
    {
      "cell_type": "code",
      "source": [
        "!pip install rdkit-pypi"
      ],
      "metadata": {
        "colab": {
          "base_uri": "https://localhost:8080/"
        },
        "id": "Reu-fry1rfo1",
        "outputId": "d5b48f5c-e8ad-4a6a-b0d7-044e0e6d44df"
      },
      "execution_count": 10,
      "outputs": [
        {
          "output_type": "stream",
          "name": "stdout",
          "text": [
            "Collecting rdkit-pypi\n",
            "  Downloading rdkit_pypi-2022.9.5-cp310-cp310-manylinux_2_17_x86_64.manylinux2014_x86_64.whl (29.4 MB)\n",
            "\u001b[2K     \u001b[90m━━━━━━━━━━━━━━━━━━━━━━━━━━━━━━━━━━━━━━━━\u001b[0m \u001b[32m29.4/29.4 MB\u001b[0m \u001b[31m40.8 MB/s\u001b[0m eta \u001b[36m0:00:00\u001b[0m\n",
            "\u001b[?25hRequirement already satisfied: numpy in /usr/local/lib/python3.10/dist-packages (from rdkit-pypi) (1.25.2)\n",
            "Requirement already satisfied: Pillow in /usr/local/lib/python3.10/dist-packages (from rdkit-pypi) (9.4.0)\n",
            "Installing collected packages: rdkit-pypi\n",
            "Successfully installed rdkit-pypi-2022.9.5\n"
          ]
        }
      ]
    },
    {
      "cell_type": "code",
      "source": [
        "# -*- coding: utf-8 -*-\n",
        "\"\"\"\n",
        "Created on Fri Dec 20 15:37:59 2019\n",
        "\n",
        "@author: Gil\n",
        "\n",
        "sd: list of rdkit Chem mol instance.\n",
        "\"\"\"\n",
        "\n",
        "from rdkit.Chem import AllChem\n",
        "from rdkit.Chem import MACCSkeys                       #MACCS Keys (166 bit)\n",
        "from rdkit.Chem.Fingerprints import FingerprintMols    #Topological Fingerprints (RDKFingerprint, 2048 bit)\n",
        "from rdkit.Avalon import pyAvalonTools                 #512 bit\n",
        "from rdkit.Chem.AtomPairs import Pairs, Torsions       #Atom pair & torsions fingerprints\n",
        "\n",
        "from rdkit.Chem.EState.Fingerprinter import FingerprintMol # https://www.rdkit.org/docs/source/rdkit.Chem.EState.Fingerprinter.html (79 bit)\n",
        "from rdkit.Chem.EState import EState_VSA # https://www.rdkit.org/docs/source/rdkit.Chem.EState.EState_VSA.html\n",
        "from rdkit.Chem import GraphDescriptors #https://www.rdkit.org/docs/source/rdkit.Chem.GraphDescriptors.html\n",
        "from rdkit.Chem import Descriptors #https://www.rdkit.org/docs/source/rdkit.Chem.Descriptors.html\n",
        "from rdkit.Chem import Crippen #https://www.rdkit.org/docs/source/rdkit.Chem.Crippen.html\n",
        "from rdkit.Chem import MolSurf #https://www.rdkit.org/docs/source/rdkit.Chem.MolSurf.html\n",
        "from rdkit.Chem import rdMolDescriptors #https://www.rdkit.org/docs/source/rdkit.Chem.rdMolDescriptors.html\n",
        "from rdkit.Chem import Lipinski\n",
        "\n",
        "from rdkit import Chem, DataStructs\n",
        "\n",
        "import numpy as np\n",
        "import pandas as pd\n",
        "\n",
        "def fingerprint_bitgenerator(fps):\n",
        "    np_fps = []\n",
        "\n",
        "    for fp in fps:\n",
        "        arr = np.zeros((1,))\n",
        "        DataStructs.ConvertToNumpyArray(fp,arr)\n",
        "        np_fps.append(arr)\n",
        "\n",
        "    return np_fps\n",
        "\n",
        "def atompairfingerprint_keyextractor(fps):\n",
        "    fpkeys = []\n",
        "\n",
        "    for fp in fps:\n",
        "        fpkeys += list(fp.GetNonzeroElements().keys())\n",
        "\n",
        "    fpkeys = list(set(fpkeys))\n",
        "    fpkeys.sort()\n",
        "    return fpkeys\n",
        "\n",
        "def atompair_bitgenerator(fps, keys):\n",
        "\n",
        "    keylen = len(keys)\n",
        "    np_fps = []\n",
        "    for fp in fps:\n",
        "        arr = np.zeros(keylen)\n",
        "        for i in range(keylen):\n",
        "            arr[i]=fp[keys[i]]\n",
        "        np_fps.append(arr)\n",
        "\n",
        "    return np_fps\n",
        "\n",
        "def description2D_calc(sd):\n",
        "    #Topliss fragments / BCUT2D\n",
        "    desc_2d = []\n",
        "    for m in sd:\n",
        "        each_desc = []\n",
        "\n",
        "        desc = [rdMolDescriptors.CalcNumAliphaticCarbocycles(m),\n",
        "                rdMolDescriptors.CalcNumAliphaticHeterocycles(m),\n",
        "                rdMolDescriptors.CalcNumAliphaticRings(m),\n",
        "                rdMolDescriptors.CalcNumAmideBonds(m),\n",
        "                rdMolDescriptors.CalcNumAromaticCarbocycles(m),\n",
        "                rdMolDescriptors.CalcNumAromaticHeterocycles(m),\n",
        "                rdMolDescriptors.CalcNumAromaticRings(m),\n",
        "                rdMolDescriptors.CalcNumAtomStereoCenters(m),\n",
        "                rdMolDescriptors.CalcNumBridgeheadAtoms(m),\n",
        "                rdMolDescriptors.CalcNumHBA(m),\n",
        "                rdMolDescriptors.CalcNumHBD(m),\n",
        "                rdMolDescriptors.CalcNumHeteroatoms(m),\n",
        "                rdMolDescriptors.CalcNumHeterocycles(m),\n",
        "                rdMolDescriptors.CalcNumLipinskiHBA(m),\n",
        "                rdMolDescriptors.CalcNumLipinskiHBD(m),\n",
        "                rdMolDescriptors.CalcNumRings(m),\n",
        "                rdMolDescriptors.CalcNumRotatableBonds(m),\n",
        "                rdMolDescriptors.CalcNumSaturatedCarbocycles(m),\n",
        "                rdMolDescriptors.CalcNumSaturatedHeterocycles(m),\n",
        "                rdMolDescriptors.CalcNumSaturatedRings(m),\n",
        "                rdMolDescriptors.CalcNumSpiroAtoms(m),\n",
        "\n",
        "                Lipinski.FractionCSP3(m),\n",
        "                Lipinski.HeavyAtomCount(m),\n",
        "                Lipinski.NHOHCount(m),\n",
        "                Lipinski.NOCount(m),\n",
        "\n",
        "                Descriptors.ExactMolWt(m),\n",
        "                Descriptors.HeavyAtomMolWt(m),\n",
        "                Descriptors.MaxAbsEStateIndex(m),\n",
        "                Descriptors.MaxEStateIndex(m),\n",
        "                Descriptors.MinAbsEStateIndex(m),\n",
        "                Descriptors.MinEStateIndex(m),\n",
        "                Descriptors.MaxAbsPartialCharge(m),\n",
        "                Descriptors.MaxPartialCharge(m),\n",
        "                Descriptors.MinAbsPartialCharge(m),\n",
        "                Descriptors.MinPartialCharge(m),\n",
        "                Descriptors.NumRadicalElectrons(m),\n",
        "                Descriptors.NumValenceElectrons(m),\n",
        "\n",
        "                Crippen.MolLogP(m),\n",
        "                Crippen.MolMR(m),\n",
        "\n",
        "                MolSurf.LabuteASA(m),\n",
        "                MolSurf.TPSA(m)]\n",
        "\n",
        "        graph_desc = [GraphDescriptors.BalabanJ(m),\n",
        "                      GraphDescriptors.BertzCT(m),\n",
        "                      GraphDescriptors.Ipc(m),\n",
        "                      GraphDescriptors.Chi0(m),\n",
        "                      GraphDescriptors.Chi0n(m),\n",
        "                      GraphDescriptors.Chi0v(m),\n",
        "                      GraphDescriptors.Chi1(m),\n",
        "                      GraphDescriptors.Chi1n(m),\n",
        "                      GraphDescriptors.Chi1v(m),\n",
        "                      GraphDescriptors.Chi2n(m),\n",
        "                      GraphDescriptors.Chi2v(m),\n",
        "                      GraphDescriptors.Chi3n(m),\n",
        "                      GraphDescriptors.Chi3v(m),\n",
        "                      GraphDescriptors.Chi4n(m),\n",
        "                      GraphDescriptors.Chi4v(m),\n",
        "                      GraphDescriptors.HallKierAlpha(m),\n",
        "                      GraphDescriptors.Kappa1(m),\n",
        "                      GraphDescriptors.Kappa2(m),\n",
        "                      GraphDescriptors.Kappa3(m)]\n",
        "\n",
        "        estate_vsa = list(EState_VSA.EState_VSA_(m))\n",
        "        vsa_estate = list(EState_VSA.VSA_EState_(m))\n",
        "\n",
        "        peoe_vsa = list(MolSurf.pyPEOE_VSA_(m))\n",
        "        smr_vsa = list(MolSurf.pySMR_VSA_(m))\n",
        "        logp_vsa = list(MolSurf.pySlogP_VSA_(m))\n",
        "\n",
        "        mqns = rdMolDescriptors.MQNs_(m)\n",
        "\n",
        "        each_desc = desc + graph_desc + estate_vsa + vsa_estate + peoe_vsa + smr_vsa + logp_vsa + mqns\n",
        "\n",
        "        desc_2d.append(each_desc)\n",
        "\n",
        "    desc_indices = ['num_aliphatic_carbocycles','num_alphatic_heterocycles',\n",
        "                    'num_alphatic_ring','num_amidebond',\n",
        "                    'num_aromatic_carbocycle','num_aromatic_heterocycle',\n",
        "                    'num_aromatic_ring','num_atom_stereo_center',\n",
        "                    'num_bridge_head_atom','num_HBA','num_HBD',\n",
        "                    'num_heteroatoms','num_heterocycle',\n",
        "                    'lipinski_HBA','lipinski_HBD','num_ring',\n",
        "                    'num_rotatable_bond','num_saturated_carbocycle',\n",
        "                    'num_saturated_heterocycle','num_saturated_ring',\n",
        "                    'num_spiro_atoms','fraction_csp3','num_heavy_atom',\n",
        "                    'num_NHOH','num_NO','mw','heavy_atom_mw',\n",
        "                    'max_abs_estate_index','max_estate_index',\n",
        "                    'min_abs_estate_index','min_estate_index',\n",
        "                    'max_abs_partial_charge','max_partial_charge',\n",
        "                    'min_abs_partial_charge','min_partial_charge',\n",
        "                    'num_radical_electron','num_valence_electron',\n",
        "                    'logP','MR','ASA','TPSA',\n",
        "\n",
        "                    'balabanJ','bertzCT','Ipc','chi0','chi0n','chi0v',\n",
        "                    'chi1','chi1n','chi1v','chi2n','chi2v','chi3n','chi3v',\n",
        "                    'chi4n','chi4v','hallkierAlpha','kapp1','kappa2','kappa3']\n",
        "\n",
        "    desc_indices_estate_vsa = []\n",
        "    for i in range(1,12):\n",
        "        desc_indices_estate_vsa.append('estate_vsa'+str(i))\n",
        "\n",
        "    desc_indices_vsa_estate = []\n",
        "    for i in range(1,11):\n",
        "        desc_indices_vsa_estate.append('vsa_estate'+str(i))\n",
        "\n",
        "    desc_indices_peoe_vsa = []\n",
        "    for i in range(1,15): desc_indices_peoe_vsa.append('peoe_vsa'+str(i))\n",
        "\n",
        "    desc_indices_smr_vsa = []\n",
        "    for i in range(1,11): desc_indices_smr_vsa.append('smr_vsa'+str(i))\n",
        "\n",
        "    desc_indices_logp_vsa = []\n",
        "    for i in range(1,13): desc_indices_logp_vsa.append('logp_vsa'+str(i))\n",
        "\n",
        "    desc_indices_mqns = ['mqns'+str(i) for i in range(42)]\n",
        "\n",
        "    total_desc_indices = desc_indices + desc_indices_estate_vsa + desc_indices_vsa_estate + desc_indices_peoe_vsa + desc_indices_smr_vsa + desc_indices_logp_vsa + desc_indices_mqns\n",
        "\n",
        "    return pd.DataFrame(desc_2d, columns=total_desc_indices)\n",
        "\n",
        "def estateFP_calc(sd):\n",
        "    return pd.DataFrame([FingerprintMol(m)[-1] for m in sd])\n",
        "\n",
        "def autocorr2D_calc(sd):\n",
        "    return pd.DataFrame([rdMolDescriptors.CalcAUTOCORR2D(m) for m in sd])\n",
        "\n",
        "def maccsFP_calc(sd):\n",
        "    maccfps = [MACCSkeys.GenMACCSKeys(m) for m in sd]\n",
        "    maccfps_bit = fingerprint_bitgenerator(maccfps)\n",
        "    return pd.DataFrame(maccfps_bit)\n",
        "\n",
        "def avalonFP_calc(sd):\n",
        "    avalonfps = [pyAvalonTools.GetAvalonFP(m) for m in sd]\n",
        "    avalonfps_bit = fingerprint_bitgenerator(avalonfps)\n",
        "    return pd.DataFrame(avalonfps_bit)\n",
        "\n",
        "def avalonCountFP_calc(sd):\n",
        "    avaloncountfps = [pyAvalonTools.GetAvalonCountFP(m) for m in sd]\n",
        "    avaloncountfps_bit = fingerprint_bitgenerator(avaloncountfps)\n",
        "    return pd.DataFrame(avaloncountfps_bit)\n",
        "\n",
        "def layerFP_calc(sd):\n",
        "    layerfps = [Chem.rdmolops.LayeredFingerprint(m) for m in sd]\n",
        "    layerfps_bit = fingerprint_bitgenerator(layerfps)\n",
        "    return pd.DataFrame(layerfps_bit)\n",
        "\n",
        "def morganFP_calc(sd, level):\n",
        "    circularfps = [AllChem.GetMorganFingerprintAsBitVect(m,level) for m in sd]\n",
        "    circularfps_bit = fingerprint_bitgenerator(circularfps)\n",
        "    return pd.DataFrame(circularfps_bit)\n",
        "\n",
        "def atompairFP_calc(sd):\n",
        "    atompairfp = [Pairs.GetAtomPairFingerprint(m) for m in sd]\n",
        "    atompairfp_key = atompairfingerprint_keyextractor(atompairfp)\n",
        "    atompairfp_bit = atompair_bitgenerator(atompairfp, atompairfp_key)\n",
        "    return pd.DataFrame(atompairfp_bit,columns=list(range(len(atompairfp_bit[0]))))\n",
        "\n",
        "def torsionFP_calc(sd):\n",
        "    torsionfp = [Torsions.GetTopologicalTorsionFingerprint(m) for m in sd]\n",
        "    torsionfp_key = atompairfingerprint_keyextractor(torsionfp)\n",
        "    torsionfp_bit = atompair_bitgenerator(torsionfp, torsionfp_key)\n",
        "    return pd.DataFrame(torsionfp_bit,columns=list(range(len(torsionfp_bit[0]))))"
      ],
      "metadata": {
        "id": "LOMZOq-msGTI"
      },
      "execution_count": 11,
      "outputs": []
    },
    {
      "cell_type": "code",
      "source": [
        "target = [train_df, test_df]\n",
        "\n",
        "train_set = []\n",
        "test_set = []\n",
        "\n",
        "sets = [train_set, test_set]\n",
        "\n",
        "for i, df in enumerate(target):\n",
        "    df_id = df[['data_source', 'smi']]\n",
        "    smi = df['smi']\n",
        "    sd = [Chem.MolFromSmiles(m) for m in smi]  # Convert 'Smiles' to RDKit Mol objects\n",
        "    y = df['value']  # pMIC\n",
        "\n",
        "    desc2d = description2D_calc(sd)\n",
        "    sets[i].append(pd.concat([df_id, y, desc2d], axis=1))\n",
        "\n",
        "    estate = estateFP_calc(sd)\n",
        "    sets[i].append(pd.concat([df_id, y, estate], axis=1))\n",
        "\n",
        "    autocorr = autocorr2D_calc(sd)\n",
        "    sets[i].append(pd.concat([df_id, y, autocorr], axis=1))\n",
        "\n",
        "    maccs = maccsFP_calc(sd)\n",
        "    sets[i].append(pd.concat([df_id, y, maccs], axis=1))\n",
        "\n",
        "    avalon = avalonFP_calc(sd)\n",
        "    sets[i].append(pd.concat([df_id, y, avalon], axis=1))\n",
        "\n",
        "    avalon_count = avalonCountFP_calc(sd)\n",
        "    sets[i].append(pd.concat([df_id, y, avalon_count], axis=1))\n",
        "\n",
        "    layer = layerFP_calc(sd)\n",
        "    sets[i].append(pd.concat([df_id, y, layer], axis=1))\n",
        "\n",
        "    morgan2 = morganFP_calc(sd, 2)\n",
        "    sets[i].append(pd.concat([df_id, y, morgan2], axis=1))\n",
        "\n",
        "    morgan3 = morganFP_calc(sd, 3)\n",
        "    sets[i].append(pd.concat([df_id, y, morgan3], axis=1))\n",
        "\n",
        "    morgan4 = morganFP_calc(sd, 4)\n",
        "    sets[i].append(pd.concat([df_id, y, morgan4], axis=1))\n"
      ],
      "metadata": {
        "id": "6lXonALOvTG2"
      },
      "execution_count": 12,
      "outputs": []
    },
    {
      "cell_type": "code",
      "source": [
        "desc = [\"desc2d\",\"estateFP\",\"autocorr2D\",\"maccsFP\",\"avalonFP\",\"avalonCountFP\",\"layerFP\",\"morgan2\",\"morgan3\",\"morgan4\"]"
      ],
      "metadata": {
        "id": "vQWBUTds0g36"
      },
      "execution_count": 13,
      "outputs": []
    },
    {
      "cell_type": "code",
      "source": [
        "len(desc)"
      ],
      "metadata": {
        "colab": {
          "base_uri": "https://localhost:8080/"
        },
        "id": "LK-8zA9c0jqk",
        "outputId": "3598b1d9-b90e-4df6-adec-05ed6bb01264"
      },
      "execution_count": 14,
      "outputs": [
        {
          "output_type": "execute_result",
          "data": {
            "text/plain": [
              "10"
            ]
          },
          "metadata": {},
          "execution_count": 14
        }
      ]
    },
    {
      "cell_type": "code",
      "source": [
        "# import numpy as np\n",
        "# from sklearn.metrics import mean_squared_error as MSE, r2_score\n",
        "# from scipy import stats\n",
        "# import xgboost\n",
        "\n",
        "\n",
        "# for i in range(len(desc)):\n",
        "#     X_train = train_set[i].drop(['data_source', 'smi', 'value'], axis=1)\n",
        "#     y_train = train_set[i]['value']\n",
        "\n",
        "#     X_test = test_set[i].drop(['data_source', 'smi', 'value'], axis=1)\n",
        "#     y_test = test_set[i]['value']\n",
        "\n",
        "#     print(f\"* Descriptor Name : {desc[i]}\")\n",
        "#     print(\"  Training...\")\n",
        "\n",
        "#     xgb_model = xgboost.XGBRegressor(objective=\"reg:squarederror\", n_estimators=100, learning_rate=0.08, gamma=0, subsample=0.75,\n",
        "#                                      colsample_bytree=1, max_depth=7, seed=123)\n",
        "\n",
        "#     xgb_model.fit(X_train, y_train)\n",
        "\n",
        "#     # 모델 예측\n",
        "#     pred = xgb_model.predict(X_test)\n",
        "\n",
        "#     # 평가 메트릭 계산\n",
        "#     r_sq = r2_score(y_test, pred)\n",
        "#     rmse = np.sqrt(MSE(y_test, pred))\n",
        "#     sp_r = stats.spearmanr(y_test, pred).statistic\n",
        "\n",
        "#     print(\" > Evaluation Metrics\")\n",
        "#     print(f\"   R square : {r_sq}\")\n",
        "#     print(f\"   RMSE : {rmse}\")\n",
        "#     print(f\"   Spearman R : {sp_r}\")\n",
        "#     print(\"\\n\")\n"
      ],
      "metadata": {
        "id": "liC1APR_0kPO"
      },
      "execution_count": 15,
      "outputs": []
    },
    {
      "cell_type": "code",
      "source": [
        "from sklearn.linear_model import LinearRegression, Ridge, Lasso\n",
        "from sklearn.ensemble import RandomForestRegressor, GradientBoostingRegressor\n",
        "from sklearn.svm import SVR\n",
        "from xgboost import XGBRegressor\n",
        "from sklearn.metrics import r2_score, mean_squared_error\n",
        "from sklearn.pipeline import Pipeline\n",
        "from sklearn.preprocessing import StandardScaler\n",
        "from sklearn.model_selection import GridSearchCV\n",
        "from scipy import stats\n",
        "from sklearn.model_selection import RandomizedSearchCV\n",
        "\n",
        "# 모델과 그리드 정의\n",
        "xgb_model = XGBRegressor(objective='reg:squarederror')\n",
        "\n",
        "param_grids = {\n",
        "        'n_estimators': [50, 100, 150],\n",
        "        'learning_rate': [0.01, 0.05, 0.1],\n",
        "        'gamma': [0, 0.1, 0.2],\n",
        "        'subsample': [0.6, 0.75, 0.9],\n",
        "        'colsample_bytree': [0.6, 0.8, 1.0],\n",
        "        'max_depth': [3, 5, 7]\n",
        "}\n",
        "\n",
        "\n",
        "for i in range(len(desc)):\n",
        "    X_train = train_set[i].drop(['data_source', 'smi', 'value'], axis=1)\n",
        "    y_train = train_set[i]['value']\n",
        "\n",
        "    X_test = test_set[i].drop(['data_source', 'smi', 'value'], axis=1)\n",
        "    y_test = test_set[i]['value']\n",
        "\n",
        "    print(f\"* Descriptor Name: {desc[i]}\")\n",
        "    # grid_search = GridSearchCV(xgb_model, param_grids, cv=3, scoring='r2', n_jobs=-1, verbose=1)\n",
        "    # grid_search.fit(X_train, y_train)\n",
        "    # best_model = grid_search.best_estimator_\n",
        "    # print(f\"    Best Parameters: {grid_search.best_params_}\")\n",
        "    random_search = RandomizedSearchCV(xgb_model, param_grids, n_iter=100, cv=3, scoring='r2', n_jobs=-1, verbose=1, random_state=42)\n",
        "    random_search.fit(X_train, y_train)\n",
        "    best_model = random_search.best_estimator_\n",
        "    print(f\"    Best Parameters: {random_search.best_params_}\")\n",
        "\n",
        "    # 테스트 데이터에 대한 예측 및 성능 평가\n",
        "    y_pred = best_model.predict(X_test)\n",
        "    r_sq = r2_score(y_test, y_pred)\n",
        "    rmse = np.sqrt(mean_squared_error(y_test, y_pred))\n",
        "    sp_r = stats.spearmanr(y_test, y_pred).statistic\n",
        "\n",
        "    # 결과 출력\n",
        "    print(\" > Evaluation Metrics\")\n",
        "    print(f\"   R square : {r_sq:.4f}\")\n",
        "    print(f\"   RMSE : {rmse:.4f}\")\n",
        "    print(f\"   Spearman R : {sp_r:.4f}\")\n",
        "    print(\"\\n\")"
      ],
      "metadata": {
        "colab": {
          "base_uri": "https://localhost:8080/"
        },
        "id": "Kxp9E07J5vuY",
        "outputId": "ea11e78a-d934-4f1b-da84-3ba237ed3f2b"
      },
      "execution_count": 19,
      "outputs": [
        {
          "output_type": "stream",
          "name": "stdout",
          "text": [
            "* Descriptor Name: desc2d\n",
            "Fitting 3 folds for each of 100 candidates, totalling 300 fits\n",
            "    Best Parameters: {'subsample': 0.75, 'n_estimators': 150, 'max_depth': 7, 'learning_rate': 0.05, 'gamma': 0.1, 'colsample_bytree': 0.6}\n",
            " > Evaluation Metrics\n",
            "   R square : 0.6251\n",
            "   RMSE : 0.5531\n",
            "   Spearman R : 0.7454\n",
            "\n",
            "\n",
            "* Descriptor Name: estateFP\n",
            "Fitting 3 folds for each of 100 candidates, totalling 300 fits\n",
            "    Best Parameters: {'subsample': 0.6, 'n_estimators': 150, 'max_depth': 7, 'learning_rate': 0.1, 'gamma': 0.2, 'colsample_bytree': 0.8}\n",
            " > Evaluation Metrics\n",
            "   R square : 0.5800\n",
            "   RMSE : 0.5853\n",
            "   Spearman R : 0.7098\n",
            "\n",
            "\n",
            "* Descriptor Name: autocorr2D\n",
            "Fitting 3 folds for each of 100 candidates, totalling 300 fits\n",
            "    Best Parameters: {'subsample': 0.9, 'n_estimators': 150, 'max_depth': 7, 'learning_rate': 0.05, 'gamma': 0.2, 'colsample_bytree': 0.6}\n",
            " > Evaluation Metrics\n",
            "   R square : 0.5242\n",
            "   RMSE : 0.6230\n",
            "   Spearman R : 0.6899\n",
            "\n",
            "\n",
            "* Descriptor Name: maccsFP\n",
            "Fitting 3 folds for each of 100 candidates, totalling 300 fits\n",
            "    Best Parameters: {'subsample': 0.6, 'n_estimators': 150, 'max_depth': 7, 'learning_rate': 0.1, 'gamma': 0, 'colsample_bytree': 0.6}\n",
            " > Evaluation Metrics\n",
            "   R square : 0.6202\n",
            "   RMSE : 0.5566\n",
            "   Spearman R : 0.7364\n",
            "\n",
            "\n",
            "* Descriptor Name: avalonFP\n",
            "Fitting 3 folds for each of 100 candidates, totalling 300 fits\n",
            "    Best Parameters: {'subsample': 0.75, 'n_estimators': 150, 'max_depth': 7, 'learning_rate': 0.05, 'gamma': 0.1, 'colsample_bytree': 0.6}\n",
            " > Evaluation Metrics\n",
            "   R square : 0.6617\n",
            "   RMSE : 0.5254\n",
            "   Spearman R : 0.7707\n",
            "\n",
            "\n",
            "* Descriptor Name: avalonCountFP\n",
            "Fitting 3 folds for each of 100 candidates, totalling 300 fits\n",
            "    Best Parameters: {'subsample': 0.75, 'n_estimators': 150, 'max_depth': 7, 'learning_rate': 0.05, 'gamma': 0.2, 'colsample_bytree': 0.8}\n",
            " > Evaluation Metrics\n",
            "   R square : 0.6644\n",
            "   RMSE : 0.5232\n",
            "   Spearman R : 0.7734\n",
            "\n",
            "\n",
            "* Descriptor Name: layerFP\n",
            "Fitting 3 folds for each of 100 candidates, totalling 300 fits\n",
            "    Best Parameters: {'subsample': 0.75, 'n_estimators': 150, 'max_depth': 7, 'learning_rate': 0.05, 'gamma': 0.2, 'colsample_bytree': 0.8}\n",
            " > Evaluation Metrics\n",
            "   R square : 0.6584\n",
            "   RMSE : 0.5279\n",
            "   Spearman R : 0.7638\n",
            "\n",
            "\n",
            "* Descriptor Name: morgan2\n",
            "Fitting 3 folds for each of 100 candidates, totalling 300 fits\n",
            "    Best Parameters: {'subsample': 0.6, 'n_estimators': 150, 'max_depth': 7, 'learning_rate': 0.1, 'gamma': 0.2, 'colsample_bytree': 0.8}\n",
            " > Evaluation Metrics\n",
            "   R square : 0.6126\n",
            "   RMSE : 0.5622\n",
            "   Spearman R : 0.7314\n",
            "\n",
            "\n",
            "* Descriptor Name: morgan3\n",
            "Fitting 3 folds for each of 100 candidates, totalling 300 fits\n",
            "    Best Parameters: {'subsample': 0.6, 'n_estimators': 150, 'max_depth': 7, 'learning_rate': 0.1, 'gamma': 0.2, 'colsample_bytree': 0.8}\n",
            " > Evaluation Metrics\n",
            "   R square : 0.6231\n",
            "   RMSE : 0.5545\n",
            "   Spearman R : 0.7392\n",
            "\n",
            "\n",
            "* Descriptor Name: morgan4\n",
            "Fitting 3 folds for each of 100 candidates, totalling 300 fits\n",
            "    Best Parameters: {'subsample': 0.6, 'n_estimators': 150, 'max_depth': 7, 'learning_rate': 0.1, 'gamma': 0, 'colsample_bytree': 0.6}\n",
            " > Evaluation Metrics\n",
            "   R square : 0.6159\n",
            "   RMSE : 0.5598\n",
            "   Spearman R : 0.7388\n",
            "\n",
            "\n"
          ]
        }
      ]
    }
  ]
}